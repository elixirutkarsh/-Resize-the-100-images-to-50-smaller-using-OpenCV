{
  "nbformat": 4,
  "nbformat_minor": 0,
  "metadata": {
    "colab": {
      "provenance": [],
      "authorship_tag": "ABX9TyMWaKt4M4XCWX0z8sDC2bbC",
      "include_colab_link": true
    },
    "kernelspec": {
      "name": "python3",
      "display_name": "Python 3"
    },
    "language_info": {
      "name": "python"
    }
  },
  "cells": [
    {
      "cell_type": "markdown",
      "metadata": {
        "id": "view-in-github",
        "colab_type": "text"
      },
      "source": [
        "<a href=\"https://colab.research.google.com/github/elixirutkarsh/-Resize-the-100-images-to-50-smaller-using-OpenCV/blob/main/%22Resize_the_100_images_to_50_(smaller)_%22_using_OpenCV.ipynb\" target=\"_parent\"><img src=\"https://colab.research.google.com/assets/colab-badge.svg\" alt=\"Open In Colab\"/></a>"
      ]
    },
    {
      "cell_type": "code",
      "source": [
        "import os\n",
        "import cv2\n",
        "from google.colab import drive\n",
        "drive.mount('/content/drive')\n",
        "image_directory = '/content/drive/MyDrive/Images'\n",
        "# Get a list of all image files in the directory\n",
        "image_files = [f for f in os.listdir(image_directory) if os.path.isfile(os.path.join(image_directory, f))]\n",
        "\n",
        "# Loop through each image file and resize it\n",
        "for file_name in image_files:\n",
        "    # Read the image\n",
        "    image_path = os.path.join(image_directory, file_name)\n",
        "    image = cv2.imread(image_path)\n",
        "\n",
        "    # Calculate the new width and height for resizing\n",
        "    new_width = int(image.shape[1] * 0.5)\n",
        "    new_height = int(image.shape[0] * 0.5)\n",
        "\n",
        "    # Resize the image to 50% using the calculated dimensions\n",
        "    resized_image = cv2.resize(image, (new_width, new_height))\n",
        "\n",
        "    # Save the resized image\n",
        "    output_path = os.path.join(image_directory, \"resized_\" + file_name)\n",
        "    cv2.imwrite(output_path, resized_image)\n",
        "\n",
        "    print(f\"Resized {file_name} to 50%\")\n",
        "\n",
        "print(\"Resizing completed.\")\n"
      ],
      "metadata": {
        "colab": {
          "base_uri": "https://localhost:8080/"
        },
        "id": "BwuzD5wt67Vh",
        "outputId": "cd3aa66e-3ff6-48a3-b056-f09aaae7e4a2"
      },
      "execution_count": 7,
      "outputs": [
        {
          "output_type": "stream",
          "name": "stdout",
          "text": [
            "Drive already mounted at /content/drive; to attempt to forcibly remount, call drive.mount(\"/content/drive\", force_remount=True).\n",
            "Resized wallpaperflare.com_wallpaper (1).jpg to 50%\n",
            "Resized wallpaperflare.com_wallpaper (2).jpg to 50%\n",
            "Resized wallpaperflare.com_wallpaper (3).jpg to 50%\n",
            "Resized wallpaperflare.com_wallpaper (4).jpg to 50%\n",
            "Resized wallpaperflare.com_wallpaper (5).jpg to 50%\n",
            "Resized wallpaperflare.com_wallpaper (6).jpg to 50%\n",
            "Resized wallpaperflare.com_wallpaper (7).jpg to 50%\n",
            "Resized wallpaperflare.com_wallpaper (8).jpg to 50%\n",
            "Resized wallpaperflare.com_wallpaper (9).jpg to 50%\n",
            "Resized wallpaperflare.com_wallpaper (10).jpg to 50%\n",
            "Resizing completed.\n"
          ]
        }
      ]
    }
  ]
}